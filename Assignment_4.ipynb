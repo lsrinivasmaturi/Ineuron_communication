{
 "cells": [
  {
   "cell_type": "markdown",
   "metadata": {},
   "source": [
    "# Assignment 4"
   ]
  },
  {
   "cell_type": "markdown",
   "metadata": {},
   "source": [
    "1.1 Write a Python Program(with class concepts) to find the area of the triangle using the dimensions of sides."
   ]
  },
  {
   "cell_type": "code",
   "execution_count": 1,
   "metadata": {},
   "outputs": [],
   "source": [
    "class triangle:\n",
    "    \"\"\" \n",
    "    This class is a triangle class to calculate area using sides dimensions \n",
    "    \n",
    "    \"\"\"\n",
    "    def __init__(self):\n",
    "        self.side1 = float(input(\"Enter side 1 dimension:\"))\n",
    "        self.side2 = float(input(\"Enter side 2 dimension:\"))\n",
    "        self.side3 = float(input(\"Enter side 3 dimension:\"))\n",
    "        \n",
    "    def area(self):\n",
    "        \"\"\"\n",
    "        Area of triangle = (s*(s-a)*(s-b)*(s-c)) ** 0.5 \n",
    "        \n",
    "        \"\"\"\n",
    "        s = (self.side1+self.side2+self.side3)/2\n",
    "        \n",
    "        return((s*(s-self.side1)*(s-self.side2)*(self.side3))**0.5)\n",
    "    \n",
    "    "
   ]
  },
  {
   "cell_type": "code",
   "execution_count": 2,
   "metadata": {},
   "outputs": [
    {
     "name": "stdout",
     "output_type": "stream",
     "text": [
      "Enter side 1 dimension:3.0\n",
      "Enter side 2 dimension:4.0\n",
      "Enter side 3 dimension:5.0\n"
     ]
    }
   ],
   "source": [
    "triangle_test = triangle()"
   ]
  },
  {
   "cell_type": "code",
   "execution_count": 3,
   "metadata": {},
   "outputs": [
    {
     "data": {
      "text/plain": [
       "13.416407864998739"
      ]
     },
     "execution_count": 3,
     "metadata": {},
     "output_type": "execute_result"
    }
   ],
   "source": [
    "triangle_test.area()"
   ]
  },
  {
   "cell_type": "markdown",
   "metadata": {},
   "source": [
    "1.2 Write a function filter_long_words() that takes a list of words and an integer n and returns the list of words that are longer than n. "
   ]
  },
  {
   "cell_type": "code",
   "execution_count": 4,
   "metadata": {},
   "outputs": [],
   "source": [
    "def filter_long_words(words_list, num):\n",
    "    \"\"\"\n",
    "    Lists out the words longerthan the number specified\n",
    "    \n",
    "    \"\"\"\n",
    "    return([word for word in words_list if len(word)>num])\n",
    "    "
   ]
  },
  {
   "cell_type": "code",
   "execution_count": 5,
   "metadata": {},
   "outputs": [
    {
     "data": {
      "text/plain": [
       "['Srinivas', 'Maturi']"
      ]
     },
     "execution_count": 5,
     "metadata": {},
     "output_type": "execute_result"
    }
   ],
   "source": [
    "filter_long_words([\"i\", \"am\", \"Srinivas\", \"Maturi\"],5)"
   ]
  },
  {
   "cell_type": "markdown",
   "metadata": {},
   "source": [
    "2.1 Write a Python program using function concept that maps list of words into a list of integers representing the lengths of the corresponding words. "
   ]
  },
  {
   "cell_type": "code",
   "execution_count": 6,
   "metadata": {},
   "outputs": [],
   "source": [
    "def map_list(word_list):\n",
    "    len_list = []\n",
    "    for word in word_list:\n",
    "        len_list += [length(word)]\n",
    "    return(len_list)\n",
    "\n",
    "def length(word):\n",
    "    return len(word)\n",
    "        "
   ]
  },
  {
   "cell_type": "code",
   "execution_count": 7,
   "metadata": {},
   "outputs": [
    {
     "data": {
      "text/plain": [
       "[1, 2, 8, 6]"
      ]
     },
     "execution_count": 7,
     "metadata": {},
     "output_type": "execute_result"
    }
   ],
   "source": [
    "map_list([\"i\", \"am\", \"Srinivas\", \"Maturi\"])"
   ]
  },
  {
   "cell_type": "markdown",
   "metadata": {},
   "source": [
    "2.2 Write a Python function which takes a character (i.e. a string of length 1) and returns True if it is a vowel, False otherwise."
   ]
  },
  {
   "cell_type": "code",
   "execution_count": 8,
   "metadata": {},
   "outputs": [],
   "source": [
    "def isvowel(char):\n",
    "    if len(char) == 1:\n",
    "        return (char.lower() in ['a' , 'e', 'i', 'e', 'o'])"
   ]
  },
  {
   "cell_type": "code",
   "execution_count": 9,
   "metadata": {},
   "outputs": [
    {
     "data": {
      "text/plain": [
       "True"
      ]
     },
     "execution_count": 9,
     "metadata": {},
     "output_type": "execute_result"
    }
   ],
   "source": [
    "isvowel('o')"
   ]
  }
 ],
 "metadata": {
  "kernelspec": {
   "display_name": "Python 3",
   "language": "python",
   "name": "python3"
  },
  "language_info": {
   "codemirror_mode": {
    "name": "ipython",
    "version": 3
   },
   "file_extension": ".py",
   "mimetype": "text/x-python",
   "name": "python",
   "nbconvert_exporter": "python",
   "pygments_lexer": "ipython3",
   "version": "3.7.6"
  }
 },
 "nbformat": 4,
 "nbformat_minor": 4
}
